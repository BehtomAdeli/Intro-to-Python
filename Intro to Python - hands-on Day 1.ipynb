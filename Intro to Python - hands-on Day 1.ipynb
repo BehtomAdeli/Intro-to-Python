{
 "cells": [
  {
   "cell_type": "markdown",
   "id": "eeb1ade4",
   "metadata": {},
   "source": [
    "### 1-\n",
    "add all the items in this list: ['1','2','2.5','3.5']\n"
   ]
  },
  {
   "cell_type": "code",
   "execution_count": null,
   "id": "f9c64d91",
   "metadata": {},
   "outputs": [],
   "source": [
    "# Write you Answer Here:\n",
    "a = []\n"
   ]
  },
  {
   "cell_type": "code",
   "execution_count": 2,
   "id": "62b42805",
   "metadata": {},
   "outputs": [
    {
     "data": {
      "text/plain": [
       "9.0"
      ]
     },
     "execution_count": 2,
     "metadata": {},
     "output_type": "execute_result"
    }
   ],
   "source": [
    "#Answer can be found Here#\n",
    "\n",
    "a =  ['1','2','2.5','3.5']\n",
    "sum = int(a[0]) + int(a[1]) + float(a[2]) + float(a[3])\n",
    "sum\n",
    "    "
   ]
  },
  {
   "cell_type": "markdown",
   "id": "fbdf211f",
   "metadata": {},
   "source": [
    "### 2- \n",
    "calculate the average of all 2-digit integers. (numbers 10 to 99)\n"
   ]
  },
  {
   "cell_type": "code",
   "execution_count": null,
   "id": "d9d955a2",
   "metadata": {},
   "outputs": [],
   "source": [
    "#try your answer here"
   ]
  },
  {
   "cell_type": "code",
   "execution_count": 7,
   "id": "908f5093",
   "metadata": {},
   "outputs": [
    {
     "name": "stdout",
     "output_type": "stream",
     "text": [
      "4905\n"
     ]
    }
   ],
   "source": [
    "# Answer can be found Here#\n",
    "\n",
    "def createList(r1, r2):\n",
    "    return [item for item in range(r1, r2+1)]\n",
    "\n",
    "r1, r2 = 10, 99\n",
    "two_digits = createList(r1, r2)\n",
    "\n",
    "sum = 0 ;\n",
    "for i in two_digits:\n",
    "    sum += i\n",
    "    \n",
    "print (sum)"
   ]
  },
  {
   "cell_type": "markdown",
   "id": "eb3bd609",
   "metadata": {},
   "source": [
    "### 3- \n",
    "Given a variable, check if it is prime (a prime number is a number that is divisible only by itself and 1)\n"
   ]
  },
  {
   "cell_type": "code",
   "execution_count": null,
   "id": "8807ab18",
   "metadata": {},
   "outputs": [],
   "source": [
    "# Write your Answer here..."
   ]
  },
  {
   "cell_type": "code",
   "execution_count": 9,
   "id": "27f87528",
   "metadata": {},
   "outputs": [
    {
     "data": {
      "text/plain": [
       "'Input number is prime'"
      ]
     },
     "execution_count": 9,
     "metadata": {},
     "output_type": "execute_result"
    }
   ],
   "source": [
    "# The answer can be found here .. in the form of a function ..\n",
    "def prime_num(input_num):\n",
    "    for i in range(2, round(input_num/2+1)):\n",
    "        if input_num%i == 0:\n",
    "            return \"Input number is not prime.\"\n",
    "    return \"Input number is prime\"\n",
    "\n",
    "prime_num(257)"
   ]
  },
  {
   "cell_type": "markdown",
   "id": "a8e01dc6",
   "metadata": {},
   "source": [
    "### 4- \n",
    "Given a variable, write a function to check if it is a prime number. You should handle all data types and corner cases (Numbers less than 2)\n"
   ]
  },
  {
   "cell_type": "code",
   "execution_count": null,
   "id": "3887407d",
   "metadata": {},
   "outputs": [],
   "source": [
    "# Try your answer here"
   ]
  },
  {
   "cell_type": "code",
   "execution_count": 24,
   "id": "e74878e6",
   "metadata": {},
   "outputs": [
    {
     "data": {
      "text/plain": [
       "True"
      ]
     },
     "execution_count": 24,
     "metadata": {},
     "output_type": "execute_result"
    }
   ],
   "source": [
    "# The answer can be found here .. in the form of a function ..\n",
    "\n",
    "def prime_num(input_num):\n",
    "    if not isinstance(input_num, int):\n",
    "         input_num = int(input_num)\n",
    "        \n",
    "        \n",
    "    for i in range(2, round(input_num/2+1)):\n",
    "        if input_num%i == 0:\n",
    "            return False\n",
    "    return True\n",
    "\n",
    "prime_num(257.3)"
   ]
  },
  {
   "cell_type": "markdown",
   "id": "13ec0f87",
   "metadata": {},
   "source": [
    "### 5- \n",
    "make a list of prime numbers less than 100.\n"
   ]
  },
  {
   "cell_type": "code",
   "execution_count": null,
   "id": "9276c841",
   "metadata": {},
   "outputs": [],
   "source": [
    "# Write your answer here ..."
   ]
  },
  {
   "cell_type": "code",
   "execution_count": 25,
   "id": "48d1a3f7",
   "metadata": {},
   "outputs": [
    {
     "data": {
      "text/plain": [
       "[0,\n",
       " 1,\n",
       " 2,\n",
       " 3,\n",
       " 5,\n",
       " 7,\n",
       " 11,\n",
       " 13,\n",
       " 17,\n",
       " 19,\n",
       " 23,\n",
       " 29,\n",
       " 31,\n",
       " 37,\n",
       " 41,\n",
       " 43,\n",
       " 47,\n",
       " 53,\n",
       " 59,\n",
       " 61,\n",
       " 67,\n",
       " 71,\n",
       " 73,\n",
       " 79,\n",
       " 83,\n",
       " 89,\n",
       " 97]"
      ]
     },
     "execution_count": 25,
     "metadata": {},
     "output_type": "execute_result"
    }
   ],
   "source": [
    "# Anwer is written in the form of a function but the main point is the append function ;)\n",
    "\n",
    "def prime_finder(out_number):\n",
    "    prime_num_list = []\n",
    "    for i in range(out_number):\n",
    "        if prime_num(i):\n",
    "            prime_num_list.append(i)\n",
    "    return prime_num_list\n",
    "\n",
    "prime_finder(100)\n"
   ]
  },
  {
   "cell_type": "markdown",
   "id": "f4eec208",
   "metadata": {},
   "source": [
    "### 6- \n",
    "make sets of integers S2, S3 less than 100 that are divisible by two, and three. Then take the intersection and union of the two sets. "
   ]
  },
  {
   "cell_type": "code",
   "execution_count": null,
   "id": "902caf72",
   "metadata": {},
   "outputs": [],
   "source": [
    "# Write your answer here"
   ]
  },
  {
   "cell_type": "code",
   "execution_count": null,
   "id": "d65bde2d",
   "metadata": {},
   "outputs": [],
   "source": [
    "# The answer can be found here .. in the form of a function ..\n",
    "\n",
    "s2 = []\n",
    "s3 = []\n",
    "for i in range(100):\n",
    "    if i%2 == 0:\n",
    "        s2.append(i)\n",
    "    elif i%3==0:\n",
    "        s3.append(i)\n",
    "intersection =  set(a) & set(b)\n",
    "    "
   ]
  },
  {
   "cell_type": "markdown",
   "id": "36bac5d8",
   "metadata": {},
   "source": [
    "### 7-\n",
    "Find the set of all numbers less than 100 that are divisible by 2 and 3 and not by 5.\n"
   ]
  },
  {
   "cell_type": "code",
   "execution_count": null,
   "id": "9b579d0b",
   "metadata": {},
   "outputs": [],
   "source": [
    "# Write your answer here"
   ]
  },
  {
   "cell_type": "code",
   "execution_count": 30,
   "id": "47b6fdbb",
   "metadata": {},
   "outputs": [
    {
     "data": {
      "text/plain": [
       "[6, 12, 18, 24, 36, 42, 48, 54, 66, 72, 78, 84, 96]"
      ]
     },
     "execution_count": 30,
     "metadata": {},
     "output_type": "execute_result"
    }
   ],
   "source": [
    "# The answer can be found here .. in the form of a function ..\n",
    "\n",
    "def new_func(hw_seven):\n",
    "    numbers = []\n",
    "    for i in range (hw_seven):\n",
    "        if i%2==0 and i%3==0:\n",
    "            if not i%5==0:\n",
    "                numbers.append(i)\n",
    "    return numbers\n",
    "\n",
    "new_func(100)\n",
    "\n",
    "    "
   ]
  },
  {
   "cell_type": "markdown",
   "id": "38d3a022",
   "metadata": {},
   "source": [
    "### 8- \n",
    "\n",
    "Write a code to generate this pattern given n number of lines:\n",
    "(For n = 6)\n",
    "### \\****** \n",
    "### \\***** \n",
    "### \\**** \n",
    "### \\*** \n",
    "### \\** \n",
    "### \\*\n",
    "\n"
   ]
  },
  {
   "cell_type": "code",
   "execution_count": null,
   "id": "92e8f426",
   "metadata": {},
   "outputs": [],
   "source": [
    "# Now try to complete this code:\n",
    "def star_print(n):\n",
    "    for i in range(6):\n",
    "        \n",
    "\n",
    "star_print(6)"
   ]
  },
  {
   "cell_type": "markdown",
   "id": "feeb3cfa",
   "metadata": {},
   "source": [
    "### 9-\n",
    "write a code to reverse this string :\n",
    "\n",
    "\"I love python programming\" --> \"programming python love I\""
   ]
  },
  {
   "cell_type": "code",
   "execution_count": null,
   "id": "ece78ccd",
   "metadata": {},
   "outputs": [],
   "source": [
    "# write your anwer here:"
   ]
  },
  {
   "cell_type": "markdown",
   "id": "a3700b20",
   "metadata": {},
   "source": [
    "### 10- \n",
    "Given this string, make a set of all words\n",
    "(You can use split and replace functions)"
   ]
  },
  {
   "cell_type": "code",
   "execution_count": 4,
   "id": "849f134b",
   "metadata": {},
   "outputs": [],
   "source": [
    "my_string = '''Python can be used on a server to create web applications.\n",
    "Python can be used alongside software to create workflows.\n",
    "Python can connect to database systems. It can also read and modify files.\n",
    "Python can be used to handle big data and perform complex mathematics.\n",
    "Python can be used for rapid prototyping, or for production-ready software development.'''\n"
   ]
  }
 ],
 "metadata": {
  "kernelspec": {
   "display_name": "Python 3 (ipykernel)",
   "language": "python",
   "name": "python3"
  },
  "language_info": {
   "codemirror_mode": {
    "name": "ipython",
    "version": 3
   },
   "file_extension": ".py",
   "mimetype": "text/x-python",
   "name": "python",
   "nbconvert_exporter": "python",
   "pygments_lexer": "ipython3",
   "version": "3.9.7"
  }
 },
 "nbformat": 4,
 "nbformat_minor": 5
}
